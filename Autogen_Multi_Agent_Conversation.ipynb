{
  "nbformat": 4,
  "nbformat_minor": 0,
  "metadata": {
    "colab": {
      "provenance": [],
      "authorship_tag": "ABX9TyMDxW9IGjM1J1k/5sOUmCtT",
      "include_colab_link": true
    },
    "kernelspec": {
      "name": "python3",
      "display_name": "Python 3"
    },
    "language_info": {
      "name": "python"
    }
  },
  "cells": [
    {
      "cell_type": "markdown",
      "metadata": {
        "id": "view-in-github",
        "colab_type": "text"
      },
      "source": [
        "<a href=\"https://colab.research.google.com/github/arjunmalik11/AI-Agents-with-Autogen/blob/main/Autogen_Multi_Agent_Conversation.ipynb\" target=\"_parent\"><img src=\"https://colab.research.google.com/assets/colab-badge.svg\" alt=\"Open In Colab\"/></a>"
      ]
    },
    {
      "cell_type": "code",
      "execution_count": 9,
      "metadata": {
        "id": "h8sEnJUrshbq"
      },
      "outputs": [],
      "source": [
        "OPENAI_API_KEY = \"secret-key\"\n",
        "llm_config = {\n",
        "    \"model\" : \"gpt-4\",\n",
        "    \"api_key\" : OPENAI_API_KEY\n",
        " }"
      ]
    },
    {
      "cell_type": "code",
      "source": [
        "!pip install autogen"
      ],
      "metadata": {
        "colab": {
          "base_uri": "https://localhost:8080/"
        },
        "id": "xeGCPH2ksk20",
        "outputId": "f59caca7-9488-49f4-c315-c97257922107"
      },
      "execution_count": null,
      "outputs": [
        {
          "output_type": "stream",
          "name": "stdout",
          "text": [
            "Collecting autogen\n",
            "  Downloading autogen-0.3.0-py3-none-any.whl.metadata (26 kB)\n",
            "Collecting diskcache (from autogen)\n",
            "  Downloading diskcache-5.6.3-py3-none-any.whl.metadata (20 kB)\n",
            "Collecting docker (from autogen)\n",
            "  Downloading docker-7.1.0-py3-none-any.whl.metadata (3.8 kB)\n",
            "Collecting flaml (from autogen)\n",
            "  Downloading FLAML-2.2.0-py3-none-any.whl.metadata (15 kB)\n",
            "Requirement already satisfied: numpy<2,>=1.17.0 in /usr/local/lib/python3.10/dist-packages (from autogen) (1.26.4)\n",
            "Collecting openai>=1.3 (from autogen)\n",
            "  Downloading openai-1.44.1-py3-none-any.whl.metadata (22 kB)\n",
            "Requirement already satisfied: packaging in /usr/local/lib/python3.10/dist-packages (from autogen) (24.1)\n",
            "Requirement already satisfied: pydantic!=2.6.0,<3,>=1.10 in /usr/local/lib/python3.10/dist-packages (from autogen) (2.8.2)\n",
            "Collecting python-dotenv (from autogen)\n",
            "  Downloading python_dotenv-1.0.1-py3-none-any.whl.metadata (23 kB)\n",
            "Requirement already satisfied: termcolor in /usr/local/lib/python3.10/dist-packages (from autogen) (2.4.0)\n",
            "Collecting tiktoken (from autogen)\n",
            "  Downloading tiktoken-0.7.0-cp310-cp310-manylinux_2_17_x86_64.manylinux2014_x86_64.whl.metadata (6.6 kB)\n",
            "Requirement already satisfied: anyio<5,>=3.5.0 in /usr/local/lib/python3.10/dist-packages (from openai>=1.3->autogen) (3.7.1)\n",
            "Requirement already satisfied: distro<2,>=1.7.0 in /usr/lib/python3/dist-packages (from openai>=1.3->autogen) (1.7.0)\n",
            "Collecting httpx<1,>=0.23.0 (from openai>=1.3->autogen)\n",
            "  Downloading httpx-0.27.2-py3-none-any.whl.metadata (7.1 kB)\n",
            "Collecting jiter<1,>=0.4.0 (from openai>=1.3->autogen)\n",
            "  Downloading jiter-0.5.0-cp310-cp310-manylinux_2_17_x86_64.manylinux2014_x86_64.whl.metadata (3.6 kB)\n",
            "Requirement already satisfied: sniffio in /usr/local/lib/python3.10/dist-packages (from openai>=1.3->autogen) (1.3.1)\n",
            "Requirement already satisfied: tqdm>4 in /usr/local/lib/python3.10/dist-packages (from openai>=1.3->autogen) (4.66.5)\n",
            "Requirement already satisfied: typing-extensions<5,>=4.11 in /usr/local/lib/python3.10/dist-packages (from openai>=1.3->autogen) (4.12.2)\n",
            "Requirement already satisfied: annotated-types>=0.4.0 in /usr/local/lib/python3.10/dist-packages (from pydantic!=2.6.0,<3,>=1.10->autogen) (0.7.0)\n",
            "Requirement already satisfied: pydantic-core==2.20.1 in /usr/local/lib/python3.10/dist-packages (from pydantic!=2.6.0,<3,>=1.10->autogen) (2.20.1)\n",
            "Requirement already satisfied: requests>=2.26.0 in /usr/local/lib/python3.10/dist-packages (from docker->autogen) (2.32.3)\n",
            "Requirement already satisfied: urllib3>=1.26.0 in /usr/local/lib/python3.10/dist-packages (from docker->autogen) (2.0.7)\n",
            "Requirement already satisfied: regex>=2022.1.18 in /usr/local/lib/python3.10/dist-packages (from tiktoken->autogen) (2024.5.15)\n",
            "Requirement already satisfied: idna>=2.8 in /usr/local/lib/python3.10/dist-packages (from anyio<5,>=3.5.0->openai>=1.3->autogen) (3.8)\n",
            "Requirement already satisfied: exceptiongroup in /usr/local/lib/python3.10/dist-packages (from anyio<5,>=3.5.0->openai>=1.3->autogen) (1.2.2)\n",
            "Requirement already satisfied: certifi in /usr/local/lib/python3.10/dist-packages (from httpx<1,>=0.23.0->openai>=1.3->autogen) (2024.8.30)\n",
            "Collecting httpcore==1.* (from httpx<1,>=0.23.0->openai>=1.3->autogen)\n",
            "  Downloading httpcore-1.0.5-py3-none-any.whl.metadata (20 kB)\n",
            "Collecting h11<0.15,>=0.13 (from httpcore==1.*->httpx<1,>=0.23.0->openai>=1.3->autogen)\n",
            "  Downloading h11-0.14.0-py3-none-any.whl.metadata (8.2 kB)\n",
            "Requirement already satisfied: charset-normalizer<4,>=2 in /usr/local/lib/python3.10/dist-packages (from requests>=2.26.0->docker->autogen) (3.3.2)\n",
            "Downloading autogen-0.3.0-py3-none-any.whl (345 kB)\n",
            "\u001b[2K   \u001b[90m━━━━━━━━━━━━━━━━━━━━━━━━━━━━━━━━━━━━━━━━\u001b[0m \u001b[32m345.2/345.2 kB\u001b[0m \u001b[31m9.3 MB/s\u001b[0m eta \u001b[36m0:00:00\u001b[0m\n",
            "\u001b[?25hDownloading openai-1.44.1-py3-none-any.whl (373 kB)\n",
            "\u001b[2K   \u001b[90m━━━━━━━━━━━━━━━━━━━━━━━━━━━━━━━━━━━━━━━━\u001b[0m \u001b[32m373.5/373.5 kB\u001b[0m \u001b[31m22.7 MB/s\u001b[0m eta \u001b[36m0:00:00\u001b[0m\n",
            "\u001b[?25hDownloading diskcache-5.6.3-py3-none-any.whl (45 kB)\n",
            "\u001b[2K   \u001b[90m━━━━━━━━━━━━━━━━━━━━━━━━━━━━━━━━━━━━━━━━\u001b[0m \u001b[32m45.5/45.5 kB\u001b[0m \u001b[31m3.3 MB/s\u001b[0m eta \u001b[36m0:00:00\u001b[0m\n",
            "\u001b[?25hDownloading docker-7.1.0-py3-none-any.whl (147 kB)\n",
            "\u001b[2K   \u001b[90m━━━━━━━━━━━━━━━━━━━━━━━━━━━━━━━━━━━━━━━━\u001b[0m \u001b[32m147.8/147.8 kB\u001b[0m \u001b[31m11.7 MB/s\u001b[0m eta \u001b[36m0:00:00\u001b[0m\n",
            "\u001b[?25hDownloading FLAML-2.2.0-py3-none-any.whl (297 kB)\n",
            "\u001b[2K   \u001b[90m━━━━━━━━━━━━━━━━━━━━━━━━━━━━━━━━━━━━━━━━\u001b[0m \u001b[32m297.2/297.2 kB\u001b[0m \u001b[31m22.3 MB/s\u001b[0m eta \u001b[36m0:00:00\u001b[0m\n",
            "\u001b[?25hDownloading python_dotenv-1.0.1-py3-none-any.whl (19 kB)\n",
            "Downloading tiktoken-0.7.0-cp310-cp310-manylinux_2_17_x86_64.manylinux2014_x86_64.whl (1.1 MB)\n",
            "\u001b[2K   \u001b[90m━━━━━━━━━━━━━━━━━━━━━━━━━━━━━━━━━━━━━━━━\u001b[0m \u001b[32m1.1/1.1 MB\u001b[0m \u001b[31m44.3 MB/s\u001b[0m eta \u001b[36m0:00:00\u001b[0m\n",
            "\u001b[?25hDownloading httpx-0.27.2-py3-none-any.whl (76 kB)\n",
            "\u001b[2K   \u001b[90m━━━━━━━━━━━━━━━━━━━━━━━━━━━━━━━━━━━━━━━━\u001b[0m \u001b[32m76.4/76.4 kB\u001b[0m \u001b[31m5.8 MB/s\u001b[0m eta \u001b[36m0:00:00\u001b[0m\n",
            "\u001b[?25hDownloading httpcore-1.0.5-py3-none-any.whl (77 kB)\n",
            "\u001b[2K   \u001b[90m━━━━━━━━━━━━━━━━━━━━━━━━━━━━━━━━━━━━━━━━\u001b[0m \u001b[32m77.9/77.9 kB\u001b[0m \u001b[31m5.9 MB/s\u001b[0m eta \u001b[36m0:00:00\u001b[0m\n",
            "\u001b[?25hDownloading jiter-0.5.0-cp310-cp310-manylinux_2_17_x86_64.manylinux2014_x86_64.whl (318 kB)\n",
            "\u001b[2K   \u001b[90m━━━━━━━━━━━━━━━━━━━━━━━━━━━━━━━━━━━━━━━━\u001b[0m \u001b[32m318.9/318.9 kB\u001b[0m \u001b[31m24.6 MB/s\u001b[0m eta \u001b[36m0:00:00\u001b[0m\n",
            "\u001b[?25hDownloading h11-0.14.0-py3-none-any.whl (58 kB)\n",
            "\u001b[2K   \u001b[90m━━━━━━━━━━━━━━━━━━━━━━━━━━━━━━━━━━━━━━━━\u001b[0m \u001b[32m58.3/58.3 kB\u001b[0m \u001b[31m4.8 MB/s\u001b[0m eta \u001b[36m0:00:00\u001b[0m\n",
            "\u001b[?25hInstalling collected packages: python-dotenv, jiter, h11, flaml, diskcache, tiktoken, httpcore, docker, httpx, openai, autogen\n",
            "Successfully installed autogen-0.3.0 diskcache-5.6.3 docker-7.1.0 flaml-2.2.0 h11-0.14.0 httpcore-1.0.5 httpx-0.27.2 jiter-0.5.0 openai-1.44.1 python-dotenv-1.0.1 tiktoken-0.7.0\n"
          ]
        }
      ]
    },
    {
      "cell_type": "code",
      "source": [
        "from autogen import ConversableAgent\n",
        "\n",
        "agent = ConversableAgent(\n",
        "    name=\"chat-bot\",\n",
        "    llm_config= llm_config,\n",
        "    human_input_mode=\"NEVER\"\n",
        ")"
      ],
      "metadata": {
        "id": "_EK595F7s9Kd",
        "colab": {
          "base_uri": "https://localhost:8080/"
        },
        "outputId": "d3a94701-f4aa-4d66-e90a-f071b6b4c46e"
      },
      "execution_count": 10,
      "outputs": [
        {
          "output_type": "stream",
          "name": "stdout",
          "text": [
            "[autogen.oai.client: 09-11 10:55:37] {184} WARNING - The API key specified is not a valid OpenAI format; it won't work with the OpenAI-hosted model.\n"
          ]
        },
        {
          "output_type": "stream",
          "name": "stderr",
          "text": [
            "WARNING:autogen.oai.client:The API key specified is not a valid OpenAI format; it won't work with the OpenAI-hosted model.\n"
          ]
        }
      ]
    },
    {
      "cell_type": "code",
      "source": [
        "reply = agent.generate_reply(\n",
        "    messages = [\n",
        "        {\"content\": \"Tell me a funny joke\",\n",
        "         \"role\" : \"user\"\n",
        "         }\n",
        "    ]\n",
        ")\n",
        "reply"
      ],
      "metadata": {
        "colab": {
          "base_uri": "https://localhost:8080/",
          "height": 35
        },
        "id": "oLghm_vftr5s",
        "outputId": "25782097-9c90-4a92-83d6-f17a3e56e711"
      },
      "execution_count": 12,
      "outputs": [
        {
          "output_type": "execute_result",
          "data": {
            "text/plain": [
              "\"Sure, here you go:\\n\\nWhy don't scientists trust atoms?\\n\\nBecause they make up everything!\""
            ],
            "application/vnd.google.colaboratory.intrinsic+json": {
              "type": "string"
            }
          },
          "metadata": {},
          "execution_count": 12
        }
      ]
    },
    {
      "cell_type": "markdown",
      "source": [
        "Create a Conversation b/w multiple agents"
      ],
      "metadata": {
        "id": "ajWDJTcxvBSk"
      }
    },
    {
      "cell_type": "code",
      "source": [
        "manager = ConversableAgent(\n",
        "     name =\"manager\",\n",
        "     system_message = \"You are a project manager for a team. You mainly provide oultine for projects and help resolve issues by providing alternatives.\",\n",
        "     llm_config = llm_config,\n",
        "     human_input_mode=\"Never\",\n",
        " )\n",
        "\n",
        "developer = ConversableAgent(\n",
        "     name =\"developer\",\n",
        "     system_message = \"You are a developer for a team, you ask details about the project in short sentences\",\n",
        "     llm_config = llm_config,\n",
        "     human_input_mode=\"Never\",\n",
        " )"
      ],
      "metadata": {
        "colab": {
          "base_uri": "https://localhost:8080/"
        },
        "id": "5mZTVkKKusH3",
        "outputId": "e97ba075-38e5-4cb6-be34-a32d627dbc8a"
      },
      "execution_count": 15,
      "outputs": [
        {
          "output_type": "stream",
          "name": "stdout",
          "text": [
            "[autogen.oai.client: 09-11 11:07:09] {184} WARNING - The API key specified is not a valid OpenAI format; it won't work with the OpenAI-hosted model.\n"
          ]
        },
        {
          "output_type": "stream",
          "name": "stderr",
          "text": [
            "WARNING:autogen.oai.client:The API key specified is not a valid OpenAI format; it won't work with the OpenAI-hosted model.\n"
          ]
        },
        {
          "output_type": "stream",
          "name": "stdout",
          "text": [
            "[autogen.oai.client: 09-11 11:07:09] {184} WARNING - The API key specified is not a valid OpenAI format; it won't work with the OpenAI-hosted model.\n"
          ]
        },
        {
          "output_type": "stream",
          "name": "stderr",
          "text": [
            "WARNING:autogen.oai.client:The API key specified is not a valid OpenAI format; it won't work with the OpenAI-hosted model.\n"
          ]
        }
      ]
    },
    {
      "cell_type": "code",
      "source": [
        "chat_results = manager.initiate_chat(\n",
        "    recipient= developer,\n",
        "    message = \"Let's build a chat-bot\",\n",
        "    max_turns=3,\n",
        "    summary_method=\"reflection_with_llm\",\n",
        "    summary_prompt = \"Summarize the conversation\"\n",
        ")"
      ],
      "metadata": {
        "colab": {
          "base_uri": "https://localhost:8080/"
        },
        "id": "efmSIQwqvxvP",
        "outputId": "b074630c-d7cf-4f61-ea61-ab144d454306"
      },
      "execution_count": 25,
      "outputs": [
        {
          "output_type": "stream",
          "name": "stdout",
          "text": [
            "manager (to developer):\n",
            "\n",
            "Let's build a chat-bot\n",
            "\n",
            "--------------------------------------------------------------------------------\n",
            "\n",
            ">>>>>>>> USING AUTO REPLY...\n",
            "developer (to manager):\n",
            "\n",
            "What's the purpose of the chat-bot?\n",
            "\n",
            "--------------------------------------------------------------------------------\n",
            "\n",
            ">>>>>>>> USING AUTO REPLY...\n",
            "manager (to developer):\n",
            "\n",
            "The purpose of the chat-bot can vary depending on the specific needs of the organization or project. They can be used for various tasks such as answering frequently asked questions, guiding users through a website, providing detailed information about products or services, offer customer support, assist in e-commerce transactions and more. It's a way to make the user experience more interactive and efficient. Do you have a specific goal in mind with this chat-bot project?\n",
            "\n",
            "--------------------------------------------------------------------------------\n",
            "\n",
            ">>>>>>>> USING AUTO REPLY...\n",
            "developer (to manager):\n",
            "\n",
            "What platforms will the chatbot be deployed on?\n",
            "\n",
            "--------------------------------------------------------------------------------\n",
            "\n",
            ">>>>>>>> USING AUTO REPLY...\n",
            "manager (to developer):\n",
            "\n",
            "The chat-bot can be deployed on various platforms like our organization's website, mobile app, various social media platforms like Facebook or even messaging apps like Whatsapp and Slack, depending upon the target audience and their preferred mode of interaction. However, we need to consider the complexity and cost involved in integrating the chat-bot into these various platforms. What do you suggest, based on our target audience and resources?\n",
            "\n",
            "--------------------------------------------------------------------------------\n",
            "\n",
            ">>>>>>>> USING AUTO REPLY...\n",
            "developer (to manager):\n",
            "\n",
            "Which programming language do you prefer for the development of the chat-bot?\n",
            "\n",
            "--------------------------------------------------------------------------------\n"
          ]
        }
      ]
    },
    {
      "cell_type": "code",
      "source": [
        "import pprint\n",
        "pprint.pprint(chat_results)"
      ],
      "metadata": {
        "colab": {
          "base_uri": "https://localhost:8080/"
        },
        "id": "HpNfg4kRwUpB",
        "outputId": "50445fdc-82fd-43a8-cec6-cfc4bf507ad2"
      },
      "execution_count": 21,
      "outputs": [
        {
          "output_type": "stream",
          "name": "stdout",
          "text": [
            "ChatResult(chat_id=None,\n",
            "           chat_history=[{'content': \"Let's build a chat-bot\",\n",
            "                          'name': 'manager',\n",
            "                          'role': 'assistant'},\n",
            "                         {'content': \"What's the purpose of the chat-bot?\",\n",
            "                          'name': 'developer',\n",
            "                          'role': 'user'},\n",
            "                         {'content': 'The purpose of the chat-bot can vary '\n",
            "                                     'depending on the specific needs of the '\n",
            "                                     'organization or project. They can be '\n",
            "                                     'used for various tasks such as answering '\n",
            "                                     'frequently asked questions, guiding '\n",
            "                                     'users through a website, providing '\n",
            "                                     'detailed information about products or '\n",
            "                                     'services, offer customer support, assist '\n",
            "                                     'in e-commerce transactions and more. '\n",
            "                                     \"It's a way to make the user experience \"\n",
            "                                     'more interactive and efficient. Do you '\n",
            "                                     'have a specific goal in mind with this '\n",
            "                                     'chat-bot project?',\n",
            "                          'name': 'manager',\n",
            "                          'role': 'assistant'},\n",
            "                         {'content': 'What platforms will the chatbot be '\n",
            "                                     'deployed on?',\n",
            "                          'name': 'developer',\n",
            "                          'role': 'user'},\n",
            "                         {'content': 'The chat-bot can be deployed on various '\n",
            "                                     \"platforms like our organization's \"\n",
            "                                     'website, mobile app, various social '\n",
            "                                     'media platforms like Facebook or even '\n",
            "                                     'messaging apps like Whatsapp and Slack, '\n",
            "                                     'depending upon the target audience and '\n",
            "                                     'their preferred mode of interaction. '\n",
            "                                     'However, we need to consider the '\n",
            "                                     'complexity and cost involved in '\n",
            "                                     'integrating the chat-bot into these '\n",
            "                                     'various platforms. What do you suggest, '\n",
            "                                     'based on our target audience and '\n",
            "                                     'resources?',\n",
            "                          'name': 'manager',\n",
            "                          'role': 'assistant'},\n",
            "                         {'content': 'Which programming language do you prefer '\n",
            "                                     'for the development of the chat-bot?',\n",
            "                          'name': 'developer',\n",
            "                          'role': 'user'}],\n",
            "           summary='Which programming language do you prefer for the '\n",
            "                   'development of the chat-bot?',\n",
            "           cost={'usage_excluding_cached_inference': {'gpt-4-0613': {'completion_tokens': 1462,\n",
            "                                                                     'cost': 0.50586,\n",
            "                                                                     'prompt_tokens': 13938,\n",
            "                                                                     'total_tokens': 15400},\n",
            "                                                      'total_cost': 0.50586},\n",
            "                 'usage_including_cached_inference': {'gpt-4-0613': {'completion_tokens': 2299,\n",
            "                                                                     'cost': 0.72594,\n",
            "                                                                     'prompt_tokens': 19600,\n",
            "                                                                     'total_tokens': 21899},\n",
            "                                                      'total_cost': 0.72594}},\n",
            "           human_input=[])\n"
          ]
        }
      ]
    },
    {
      "cell_type": "code",
      "source": [
        "pprint.pprint(chat_results.cost)"
      ],
      "metadata": {
        "colab": {
          "base_uri": "https://localhost:8080/"
        },
        "id": "ocuFOmRTxvP0",
        "outputId": "399bd5eb-f6e6-4305-a9fa-7130283ea2f3"
      },
      "execution_count": 22,
      "outputs": [
        {
          "output_type": "stream",
          "name": "stdout",
          "text": [
            "{'usage_excluding_cached_inference': {'gpt-4-0613': {'completion_tokens': 1462,\n",
            "                                                     'cost': 0.50586,\n",
            "                                                     'prompt_tokens': 13938,\n",
            "                                                     'total_tokens': 15400},\n",
            "                                      'total_cost': 0.50586},\n",
            " 'usage_including_cached_inference': {'gpt-4-0613': {'completion_tokens': 2299,\n",
            "                                                     'cost': 0.72594,\n",
            "                                                     'prompt_tokens': 19600,\n",
            "                                                     'total_tokens': 21899},\n",
            "                                      'total_cost': 0.72594}}\n"
          ]
        }
      ]
    },
    {
      "cell_type": "markdown",
      "source": [
        "Summary of the chat based on the given summary details in the chat"
      ],
      "metadata": {
        "id": "WKZHk0KYy4aw"
      }
    },
    {
      "cell_type": "code",
      "source": [
        "pprint.pprint(chat_results.summary)"
      ],
      "metadata": {
        "colab": {
          "base_uri": "https://localhost:8080/"
        },
        "id": "46dMI-irx_ML",
        "outputId": "747a364a-9270-4caf-ce1b-47cfee02c98c"
      },
      "execution_count": 26,
      "outputs": [
        {
          "output_type": "stream",
          "name": "stdout",
          "text": [
            "('The manager wants to create a chat-bot to improve user interaction and '\n",
            " 'efficiency. The deployment platform will depend on the target audience and '\n",
            " \"their preferred mode of interaction, and can include the organization's \"\n",
            " 'website, mobile app, social media and messaging apps. The choice of '\n",
            " 'programming language for developing the chat-bot will depend on the '\n",
            " \"manager's preference.\")\n"
          ]
        }
      ]
    },
    {
      "cell_type": "markdown",
      "source": [
        "Self Stopping Conversations"
      ],
      "metadata": {
        "id": "8VrXKLr5y_qE"
      }
    },
    {
      "cell_type": "code",
      "source": [
        "manager = ConversableAgent(\n",
        "     name =\"manager\",\n",
        "     system_message = \"You are a project manager for a team. You mainly provide oultine for projects and help resolve issues by providing alternatives. When you are ready to end the conversation say: Got it!, let's work!\",\n",
        "     llm_config = llm_config,\n",
        "     human_input_mode=\"Never\",\n",
        "     is_termination_msg= lambda msg : \"Got it!, let's work\" in msg[\"content\"]\n",
        " )\n",
        "\n",
        "developer = ConversableAgent(\n",
        "     name =\"developer\",\n",
        "     system_message = \"You are a developer for a team, you ask details about the project in short sentences. When you are ready to end the conversation say: Got it!, let's work!\",\n",
        "     llm_config = llm_config,\n",
        "     human_input_mode=\"Never\",\n",
        "     is_termination_msg= lambda msg : \"Got it!, let's work\" in msg[\"content\"]\n",
        " )"
      ],
      "metadata": {
        "colab": {
          "base_uri": "https://localhost:8080/"
        },
        "id": "HryyAU_CyKEI",
        "outputId": "520165c7-6d46-4d65-aa4f-f4d93fb6b489"
      },
      "execution_count": 27,
      "outputs": [
        {
          "output_type": "stream",
          "name": "stdout",
          "text": [
            "[autogen.oai.client: 09-11 11:17:36] {184} WARNING - The API key specified is not a valid OpenAI format; it won't work with the OpenAI-hosted model.\n"
          ]
        },
        {
          "output_type": "stream",
          "name": "stderr",
          "text": [
            "WARNING:autogen.oai.client:The API key specified is not a valid OpenAI format; it won't work with the OpenAI-hosted model.\n"
          ]
        },
        {
          "output_type": "stream",
          "name": "stdout",
          "text": [
            "[autogen.oai.client: 09-11 11:17:36] {184} WARNING - The API key specified is not a valid OpenAI format; it won't work with the OpenAI-hosted model.\n"
          ]
        },
        {
          "output_type": "stream",
          "name": "stderr",
          "text": [
            "WARNING:autogen.oai.client:The API key specified is not a valid OpenAI format; it won't work with the OpenAI-hosted model.\n"
          ]
        }
      ]
    },
    {
      "cell_type": "code",
      "source": [
        "chat_results = manager.initiate_chat(\n",
        "    recipient= developer,\n",
        "    message = \"Let's build a chat-bot\",\n",
        ")"
      ],
      "metadata": {
        "colab": {
          "base_uri": "https://localhost:8080/"
        },
        "id": "L-73W8wPzZbX",
        "outputId": "b94089a7-6d40-4629-9df7-9b9d5084d6ba"
      },
      "execution_count": 28,
      "outputs": [
        {
          "name": "stdout",
          "output_type": "stream",
          "text": [
            "manager (to developer):\n",
            "\n",
            "Let's build a chat-bot\n",
            "\n",
            "--------------------------------------------------------------------------------\n",
            "\n",
            ">>>>>>>> USING AUTO REPLY...\n",
            "developer (to manager):\n",
            "\n",
            "What is the purpose of the chatbot?\n",
            "\n",
            "--------------------------------------------------------------------------------\n",
            "\n",
            ">>>>>>>> USING AUTO REPLY...\n",
            "manager (to developer):\n",
            "\n",
            "Our goal is to create a chatbot that can handle customer service inquiries. By doing so, we hope to increase satisfaction rates and streamline the resolution process.\n",
            "\n",
            "--------------------------------------------------------------------------------\n",
            "\n",
            ">>>>>>>> USING AUTO REPLY...\n",
            "developer (to manager):\n",
            "\n",
            "What platform will the chatbot be used on?\n",
            "\n",
            "--------------------------------------------------------------------------------\n",
            "\n",
            ">>>>>>>> USING AUTO REPLY...\n",
            "manager (to developer):\n",
            "\n",
            "The chatbot should be designed to work across different platforms such as our company website, Facebook Messenger, and WhatsApp. Integrating it into our mobile app could also be beneficial.\n",
            "\n",
            "--------------------------------------------------------------------------------\n",
            "\n",
            ">>>>>>>> USING AUTO REPLY...\n",
            "developer (to manager):\n",
            "\n",
            "What features should the chatbot have?\n",
            "\n",
            "--------------------------------------------------------------------------------\n",
            "\n",
            ">>>>>>>> USING AUTO REPLY...\n",
            "manager (to developer):\n",
            "\n",
            "The chatbot should be able to understand natural language, so it needs an effective Natural Language Processing (NLP) system. Additionally, it needs to be able to identify and categorize customer issues, as well as be programmed to provide answers to FAQs. It should also have the feature to learn from each interaction so it can gradually improve its performances over time. If the chatbot isn't able to resolve an issue, it should be able to identify this and direct the customer to a human agent.\n",
            "\n",
            "--------------------------------------------------------------------------------\n",
            "\n",
            ">>>>>>>> USING AUTO REPLY...\n",
            "developer (to manager):\n",
            "\n",
            "Should the chatbot handle multiple languages?\n",
            "\n",
            "--------------------------------------------------------------------------------\n",
            "\n",
            ">>>>>>>> USING AUTO REPLY...\n",
            "manager (to developer):\n",
            "\n",
            "Yes, our customer base is international so the chatbot should support multiple languages. For the initial phase, we can target English and Spanish and progressively add more languages based on user demand and our market share in different regions.\n",
            "\n",
            "--------------------------------------------------------------------------------\n",
            "\n",
            ">>>>>>>> USING AUTO REPLY...\n",
            "developer (to manager):\n",
            "\n",
            "What's our timeline for this project?\n",
            "\n",
            "--------------------------------------------------------------------------------\n",
            "\n",
            ">>>>>>>> USING AUTO REPLY...\n",
            "manager (to developer):\n",
            "\n",
            "We are looking at a 3-month timeline for the initial phase. This includes designing, coding and testing the chatbot. The goal is to have a functional bot at the end of this period, which we can then continue to refine and upgrade. We will structure this timeline into smaller sprints in our project management tool.\n",
            "\n",
            "\n",
            "--------------------------------------------------------------------------------\n",
            "\n",
            ">>>>>>>> USING AUTO REPLY...\n",
            "developer (to manager):\n",
            "\n",
            "Got it!, let's work!\n",
            "\n",
            "--------------------------------------------------------------------------------\n",
            "Please give feedback to developer. Press enter or type 'exit' to stop the conversation: exit\n"
          ]
        }
      ]
    },
    {
      "cell_type": "markdown",
      "source": [
        "Verifying State is maintained"
      ],
      "metadata": {
        "id": "gVqREdf6zxGP"
      }
    },
    {
      "cell_type": "code",
      "source": [
        "developer.send(message = \"What was the timeline you mentioned?\", recipient=manager)"
      ],
      "metadata": {
        "colab": {
          "base_uri": "https://localhost:8080/"
        },
        "id": "NlBqgYqKzdoP",
        "outputId": "1d3ade85-3395-4485-a293-de4d4f5918cb"
      },
      "execution_count": 30,
      "outputs": [
        {
          "name": "stdout",
          "output_type": "stream",
          "text": [
            "developer (to manager):\n",
            "\n",
            "What was the timeline you mentioned?\n",
            "\n",
            "--------------------------------------------------------------------------------\n",
            "\n",
            ">>>>>>>> USING AUTO REPLY...\n",
            "manager (to developer):\n",
            "\n",
            "The intended timeline is 3 months for the initial phase. This period covers designing, building, and testing the chatbot. After this phase, we'll continue refining and improving the bot based on feedback and performance.\n",
            "\n",
            "--------------------------------------------------------------------------------\n",
            "\n",
            ">>>>>>>> USING AUTO REPLY...\n",
            "developer (to manager):\n",
            "\n",
            "Got it!, let's work!\n",
            "\n",
            "--------------------------------------------------------------------------------\n",
            "Please give feedback to developer. Press enter or type 'exit' to stop the conversation: exit\n"
          ]
        }
      ]
    },
    {
      "cell_type": "code",
      "source": [],
      "metadata": {
        "id": "G5FUmHeuz7tm"
      },
      "execution_count": null,
      "outputs": []
    }
  ]
}
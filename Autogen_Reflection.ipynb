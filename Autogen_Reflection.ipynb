{
  "nbformat": 4,
  "nbformat_minor": 0,
  "metadata": {
    "colab": {
      "provenance": [],
      "authorship_tag": "ABX9TyMgCOn6N6hz9LOfEvs3wZ7G",
      "include_colab_link": true
    },
    "kernelspec": {
      "name": "python3",
      "display_name": "Python 3"
    },
    "language_info": {
      "name": "python"
    }
  },
  "cells": [
    {
      "cell_type": "markdown",
      "metadata": {
        "id": "view-in-github",
        "colab_type": "text"
      },
      "source": [
        "<a href=\"https://colab.research.google.com/github/arjunmalik11/AI-Agents-with-Autogen/blob/main/Autogen_Reflection.ipynb\" target=\"_parent\"><img src=\"https://colab.research.google.com/assets/colab-badge.svg\" alt=\"Open In Colab\"/></a>"
      ]
    },
    {
      "cell_type": "code",
      "execution_count": 1,
      "metadata": {
        "id": "YCd9hDNfugkG"
      },
      "outputs": [],
      "source": [
        "OPENAI_API_KEY = \"secret-key\"\n",
        "llm_config = {\n",
        "    \"model\" : \"gpt-4\",\n",
        "    \"api_key\" : OPENAI_API_KEY,\n",
        " }"
      ]
    },
    {
      "cell_type": "code",
      "source": [
        "!pip install autogen"
      ],
      "metadata": {
        "colab": {
          "base_uri": "https://localhost:8080/"
        },
        "id": "lL6HBsnr6e5-",
        "outputId": "8ee79ba0-918a-4f9d-fa43-5a3fa048f021"
      },
      "execution_count": 3,
      "outputs": [
        {
          "output_type": "stream",
          "name": "stdout",
          "text": [
            "Collecting autogen\n",
            "  Downloading autogen-0.3.0-py3-none-any.whl.metadata (26 kB)\n",
            "Collecting diskcache (from autogen)\n",
            "  Downloading diskcache-5.6.3-py3-none-any.whl.metadata (20 kB)\n",
            "Collecting docker (from autogen)\n",
            "  Downloading docker-7.1.0-py3-none-any.whl.metadata (3.8 kB)\n",
            "Collecting flaml (from autogen)\n",
            "  Downloading FLAML-2.2.0-py3-none-any.whl.metadata (15 kB)\n",
            "Requirement already satisfied: numpy<2,>=1.17.0 in /usr/local/lib/python3.10/dist-packages (from autogen) (1.26.4)\n",
            "Collecting openai>=1.3 (from autogen)\n",
            "  Downloading openai-1.44.1-py3-none-any.whl.metadata (22 kB)\n",
            "Requirement already satisfied: packaging in /usr/local/lib/python3.10/dist-packages (from autogen) (24.1)\n",
            "Requirement already satisfied: pydantic!=2.6.0,<3,>=1.10 in /usr/local/lib/python3.10/dist-packages (from autogen) (2.8.2)\n",
            "Collecting python-dotenv (from autogen)\n",
            "  Downloading python_dotenv-1.0.1-py3-none-any.whl.metadata (23 kB)\n",
            "Requirement already satisfied: termcolor in /usr/local/lib/python3.10/dist-packages (from autogen) (2.4.0)\n",
            "Collecting tiktoken (from autogen)\n",
            "  Downloading tiktoken-0.7.0-cp310-cp310-manylinux_2_17_x86_64.manylinux2014_x86_64.whl.metadata (6.6 kB)\n",
            "Requirement already satisfied: anyio<5,>=3.5.0 in /usr/local/lib/python3.10/dist-packages (from openai>=1.3->autogen) (3.7.1)\n",
            "Requirement already satisfied: distro<2,>=1.7.0 in /usr/lib/python3/dist-packages (from openai>=1.3->autogen) (1.7.0)\n",
            "Collecting httpx<1,>=0.23.0 (from openai>=1.3->autogen)\n",
            "  Downloading httpx-0.27.2-py3-none-any.whl.metadata (7.1 kB)\n",
            "Collecting jiter<1,>=0.4.0 (from openai>=1.3->autogen)\n",
            "  Downloading jiter-0.5.0-cp310-cp310-manylinux_2_17_x86_64.manylinux2014_x86_64.whl.metadata (3.6 kB)\n",
            "Requirement already satisfied: sniffio in /usr/local/lib/python3.10/dist-packages (from openai>=1.3->autogen) (1.3.1)\n",
            "Requirement already satisfied: tqdm>4 in /usr/local/lib/python3.10/dist-packages (from openai>=1.3->autogen) (4.66.5)\n",
            "Requirement already satisfied: typing-extensions<5,>=4.11 in /usr/local/lib/python3.10/dist-packages (from openai>=1.3->autogen) (4.12.2)\n",
            "Requirement already satisfied: annotated-types>=0.4.0 in /usr/local/lib/python3.10/dist-packages (from pydantic!=2.6.0,<3,>=1.10->autogen) (0.7.0)\n",
            "Requirement already satisfied: pydantic-core==2.20.1 in /usr/local/lib/python3.10/dist-packages (from pydantic!=2.6.0,<3,>=1.10->autogen) (2.20.1)\n",
            "Requirement already satisfied: requests>=2.26.0 in /usr/local/lib/python3.10/dist-packages (from docker->autogen) (2.32.3)\n",
            "Requirement already satisfied: urllib3>=1.26.0 in /usr/local/lib/python3.10/dist-packages (from docker->autogen) (2.0.7)\n",
            "Requirement already satisfied: regex>=2022.1.18 in /usr/local/lib/python3.10/dist-packages (from tiktoken->autogen) (2024.5.15)\n",
            "Requirement already satisfied: idna>=2.8 in /usr/local/lib/python3.10/dist-packages (from anyio<5,>=3.5.0->openai>=1.3->autogen) (3.8)\n",
            "Requirement already satisfied: exceptiongroup in /usr/local/lib/python3.10/dist-packages (from anyio<5,>=3.5.0->openai>=1.3->autogen) (1.2.2)\n",
            "Requirement already satisfied: certifi in /usr/local/lib/python3.10/dist-packages (from httpx<1,>=0.23.0->openai>=1.3->autogen) (2024.8.30)\n",
            "Collecting httpcore==1.* (from httpx<1,>=0.23.0->openai>=1.3->autogen)\n",
            "  Downloading httpcore-1.0.5-py3-none-any.whl.metadata (20 kB)\n",
            "Collecting h11<0.15,>=0.13 (from httpcore==1.*->httpx<1,>=0.23.0->openai>=1.3->autogen)\n",
            "  Downloading h11-0.14.0-py3-none-any.whl.metadata (8.2 kB)\n",
            "Requirement already satisfied: charset-normalizer<4,>=2 in /usr/local/lib/python3.10/dist-packages (from requests>=2.26.0->docker->autogen) (3.3.2)\n",
            "Downloading autogen-0.3.0-py3-none-any.whl (345 kB)\n",
            "\u001b[2K   \u001b[90m━━━━━━━━━━━━━━━━━━━━━━━━━━━━━━━━━━━━━━━━\u001b[0m \u001b[32m345.2/345.2 kB\u001b[0m \u001b[31m13.6 MB/s\u001b[0m eta \u001b[36m0:00:00\u001b[0m\n",
            "\u001b[?25hDownloading openai-1.44.1-py3-none-any.whl (373 kB)\n",
            "\u001b[2K   \u001b[90m━━━━━━━━━━━━━━━━━━━━━━━━━━━━━━━━━━━━━━━━\u001b[0m \u001b[32m373.5/373.5 kB\u001b[0m \u001b[31m20.6 MB/s\u001b[0m eta \u001b[36m0:00:00\u001b[0m\n",
            "\u001b[?25hDownloading diskcache-5.6.3-py3-none-any.whl (45 kB)\n",
            "\u001b[2K   \u001b[90m━━━━━━━━━━━━━━━━━━━━━━━━━━━━━━━━━━━━━━━━\u001b[0m \u001b[32m45.5/45.5 kB\u001b[0m \u001b[31m3.0 MB/s\u001b[0m eta \u001b[36m0:00:00\u001b[0m\n",
            "\u001b[?25hDownloading docker-7.1.0-py3-none-any.whl (147 kB)\n",
            "\u001b[2K   \u001b[90m━━━━━━━━━━━━━━━━━━━━━━━━━━━━━━━━━━━━━━━━\u001b[0m \u001b[32m147.8/147.8 kB\u001b[0m \u001b[31m8.8 MB/s\u001b[0m eta \u001b[36m0:00:00\u001b[0m\n",
            "\u001b[?25hDownloading FLAML-2.2.0-py3-none-any.whl (297 kB)\n",
            "\u001b[2K   \u001b[90m━━━━━━━━━━━━━━━━━━━━━━━━━━━━━━━━━━━━━━━━\u001b[0m \u001b[32m297.2/297.2 kB\u001b[0m \u001b[31m16.6 MB/s\u001b[0m eta \u001b[36m0:00:00\u001b[0m\n",
            "\u001b[?25hDownloading python_dotenv-1.0.1-py3-none-any.whl (19 kB)\n",
            "Downloading tiktoken-0.7.0-cp310-cp310-manylinux_2_17_x86_64.manylinux2014_x86_64.whl (1.1 MB)\n",
            "\u001b[2K   \u001b[90m━━━━━━━━━━━━━━━━━━━━━━━━━━━━━━━━━━━━━━━━\u001b[0m \u001b[32m1.1/1.1 MB\u001b[0m \u001b[31m37.3 MB/s\u001b[0m eta \u001b[36m0:00:00\u001b[0m\n",
            "\u001b[?25hDownloading httpx-0.27.2-py3-none-any.whl (76 kB)\n",
            "\u001b[2K   \u001b[90m━━━━━━━━━━━━━━━━━━━━━━━━━━━━━━━━━━━━━━━━\u001b[0m \u001b[32m76.4/76.4 kB\u001b[0m \u001b[31m4.3 MB/s\u001b[0m eta \u001b[36m0:00:00\u001b[0m\n",
            "\u001b[?25hDownloading httpcore-1.0.5-py3-none-any.whl (77 kB)\n",
            "\u001b[2K   \u001b[90m━━━━━━━━━━━━━━━━━━━━━━━━━━━━━━━━━━━━━━━━\u001b[0m \u001b[32m77.9/77.9 kB\u001b[0m \u001b[31m5.2 MB/s\u001b[0m eta \u001b[36m0:00:00\u001b[0m\n",
            "\u001b[?25hDownloading jiter-0.5.0-cp310-cp310-manylinux_2_17_x86_64.manylinux2014_x86_64.whl (318 kB)\n",
            "\u001b[2K   \u001b[90m━━━━━━━━━━━━━━━━━━━━━━━━━━━━━━━━━━━━━━━━\u001b[0m \u001b[32m318.9/318.9 kB\u001b[0m \u001b[31m17.9 MB/s\u001b[0m eta \u001b[36m0:00:00\u001b[0m\n",
            "\u001b[?25hDownloading h11-0.14.0-py3-none-any.whl (58 kB)\n",
            "\u001b[2K   \u001b[90m━━━━━━━━━━━━━━━━━━━━━━━━━━━━━━━━━━━━━━━━\u001b[0m \u001b[32m58.3/58.3 kB\u001b[0m \u001b[31m3.5 MB/s\u001b[0m eta \u001b[36m0:00:00\u001b[0m\n",
            "\u001b[?25hInstalling collected packages: python-dotenv, jiter, h11, flaml, diskcache, tiktoken, httpcore, docker, httpx, openai, autogen\n",
            "Successfully installed autogen-0.3.0 diskcache-5.6.3 docker-7.1.0 flaml-2.2.0 h11-0.14.0 httpcore-1.0.5 httpx-0.27.2 jiter-0.5.0 openai-1.44.1 python-dotenv-1.0.1 tiktoken-0.7.0\n"
          ]
        }
      ]
    },
    {
      "cell_type": "markdown",
      "source": [
        "Writer Agent"
      ],
      "metadata": {
        "id": "Fc_D0lu46sPd"
      }
    },
    {
      "cell_type": "code",
      "source": [
        "import autogen\n",
        "\n",
        "task = \"\"\"\n",
        "Write a concise but engaging blogpost about\n",
        "Autogen. Make sure the blogpost is\n",
        "within 100 words.\n",
        "\"\"\"\n",
        "\n",
        "writer = autogen.AssistantAgent(\n",
        "    name=\"Writer\",\n",
        "    system_message=\"You are a writer. You write engaging and concise \"\n",
        "        \"blogpost (with title) on given topics. You must polish your \"\n",
        "        \"writing based on the feedback you receive and give a refined \"\n",
        "        \"version. Only return your final work without additional comments.\",\n",
        "    llm_config=llm_config,\n",
        ")\n",
        "\n",
        "\n",
        "reply = writer.generate_reply(messages=[{\"content\": task, \"role\": \"user\"}])\n",
        "reply"
      ],
      "metadata": {
        "colab": {
          "base_uri": "https://localhost:8080/",
          "height": 256
        },
        "id": "wuAVjTPzuz99",
        "outputId": "fd524ef0-9546-4163-8472-4a8d891d0d13"
      },
      "execution_count": 4,
      "outputs": [
        {
          "output_type": "stream",
          "name": "stderr",
          "text": [
            "/usr/local/lib/python3.10/dist-packages/dask/dataframe/__init__.py:42: FutureWarning: \n",
            "Dask dataframe query planning is disabled because dask-expr is not installed.\n",
            "\n",
            "You can install it with `pip install dask[dataframe]` or `conda install dask`.\n",
            "This will raise in a future version.\n",
            "\n",
            "  warnings.warn(msg, FutureWarning)\n"
          ]
        },
        {
          "output_type": "stream",
          "name": "stdout",
          "text": [
            "[autogen.oai.client: 09-11 16:28:38] {184} WARNING - The API key specified is not a valid OpenAI format; it won't work with the OpenAI-hosted model.\n"
          ]
        },
        {
          "output_type": "stream",
          "name": "stderr",
          "text": [
            "WARNING:autogen.oai.client:The API key specified is not a valid OpenAI format; it won't work with the OpenAI-hosted model.\n"
          ]
        },
        {
          "output_type": "execute_result",
          "data": {
            "text/plain": [
              "\"Title: Revolutionizing Development with Autogen\\n\\nImagine a tool that automates tedious scripting tasks, saves your time and boosts your productivity. Yes, it's Autogen. A vital player in the software development environment, Autogen simplifies the code generation process by swiftly transforming specifications into reusable program code. This game-changer tool propels efficiency, reduces human error, and remarkably eases the software maintenance process. With its dynamic template-driven system, Autogen relieves developers from daunting, repetitive tasks, allowing them to delve deeper into creative problem-solving. Get on board with Autogen, embrace technological innovation, and experience the new era of software development!\""
            ],
            "application/vnd.google.colaboratory.intrinsic+json": {
              "type": "string"
            }
          },
          "metadata": {},
          "execution_count": 4
        }
      ]
    },
    {
      "cell_type": "markdown",
      "source": [
        "Adding Reflection to Writer Agent"
      ],
      "metadata": {
        "id": "37HpBxA46ucz"
      }
    },
    {
      "cell_type": "code",
      "source": [
        "critic = autogen.AssistantAgent(\n",
        "    name=\"Critic\",\n",
        "    is_termination_msg=lambda x: x.get(\"content\", \"\").find(\"TERMINATE\") >= 0,\n",
        "    llm_config=llm_config,\n",
        "    system_message=\"You are a critic. You review the work of \"\n",
        "                \"the writer and provide constructive \"\n",
        "                \"feedback to help improve the quality of the content.\",\n",
        ")\n",
        "\n",
        "res = critic.initiate_chat(\n",
        "    recipient=writer,\n",
        "    message=task,\n",
        "    max_turns=2,\n",
        "    summary_method=\"last_msg\"\n",
        ")"
      ],
      "metadata": {
        "colab": {
          "base_uri": "https://localhost:8080/"
        },
        "id": "dJfDGvxs6dY0",
        "outputId": "b432c217-9c0b-42b1-fb36-696a19a52fa8"
      },
      "execution_count": 5,
      "outputs": [
        {
          "output_type": "stream",
          "name": "stdout",
          "text": [
            "[autogen.oai.client: 09-11 16:30:04] {184} WARNING - The API key specified is not a valid OpenAI format; it won't work with the OpenAI-hosted model.\n"
          ]
        },
        {
          "output_type": "stream",
          "name": "stderr",
          "text": [
            "WARNING:autogen.oai.client:The API key specified is not a valid OpenAI format; it won't work with the OpenAI-hosted model.\n"
          ]
        },
        {
          "output_type": "stream",
          "name": "stdout",
          "text": [
            "Critic (to Writer):\n",
            "\n",
            "\n",
            "Write a concise but engaging blogpost about\n",
            "Autogen. Make sure the blogpost is\n",
            "within 100 words.\n",
            "\n",
            "\n",
            "--------------------------------------------------------------------------------\n",
            "Writer (to Critic):\n",
            "\n",
            "Title: Autogen: A Game Changer in Code Generation\n",
            "\n",
            "Autogen is revolutionizing the tech industry with its cutting-edge code generation capabilities. This versatile tool simplifies programming by automating a variety of tasks, saving time while mitigating the risk of human error. Whether it's configuration file templates or developing complex software, Autogen is your reliable ally. Embrace the power of Autogen for a smoother programming journey and upgrade your efficiency. Welcome to the future of coding!\n",
            "\n",
            "--------------------------------------------------------------------------------\n",
            "Critic (to Writer):\n",
            "\n",
            "The blogpost provides a clear and exciting introduction to Autogen. It rightly highlights the benefits of the tool and its impact on the programming world. However, to further enhance the quality of the content, here are few suggestions:\n",
            "\n",
            "1. Be more detailed with the features of Autogen; briefly explain how it helps to automate programming tasks or the mechanism behind its error mitigation capabilities.\n",
            "2. Offer tangible examples to illustrate its practical benefits, such as mentioning a real-life case study or instance where Autogen proved to be a 'game-changer'.\n",
            "3. Don't overhype. Use phrases such as 'revolutionizing the tech industry' and 'welcome to the future of coding' sparingly. It's important to maintain a balanced and informative tone.\n",
            "\n",
            "--------------------------------------------------------------------------------\n",
            "Writer (to Critic):\n",
            "\n",
            "Title: Autogen: Enhancing Efficiency in Programming\n",
            "\n",
            "In the world of programming, Autogen stands out with its robust code generation features. It assists by automating repetitive tasks, while also minimizing error through its sophisticated algorithm safeguards. For instance, it can auto-create configuration file templates, streamlining software development projects. Real-world cases like company XYZ’s successful project deployment put a stamp on Autogen's significant contribution to increasing operational efficiency in coding. Without a doubt, Autogen is a valuable tool in the technology realm, offering opportunities for programmers to spend less time on error corrections and more on innovation.\n",
            "\n",
            "--------------------------------------------------------------------------------\n"
          ]
        }
      ]
    },
    {
      "cell_type": "markdown",
      "source": [
        "Creating Nested Chats for better reflection"
      ],
      "metadata": {
        "id": "Kp7KrGXz7D8R"
      }
    },
    {
      "cell_type": "code",
      "source": [
        "SEO_reviewer = autogen.AssistantAgent(\n",
        "    name=\"SEO Reviewer\",\n",
        "    llm_config=llm_config,\n",
        "    system_message=\"You are an SEO reviewer, known for \"\n",
        "        \"your ability to optimize content for search engines, \"\n",
        "        \"ensuring that it ranks well and attracts organic traffic. \"\n",
        "        \"Make sure your suggestion is concise (2 bullets max), \"\n",
        "        \"concrete and to the point. \"\n",
        "        \"Begin the review by stating your role.\",\n",
        ")\n",
        "\n",
        "legal_reviewer = autogen.AssistantAgent(\n",
        "    name=\"Legal Reviewer\",\n",
        "    llm_config=llm_config,\n",
        "    system_message=\"You are a legal reviewer, known for \"\n",
        "        \"your ability to ensure that content is legally compliant \"\n",
        "        \"and free from any potential legal issues. \"\n",
        "        \"Make sure your suggestion is concise (2 bullets max), \"\n",
        "        \"concrete and to the point. \"\n",
        "        \"Begin the review by stating your role.\",\n",
        ")\n",
        "\n",
        "ethics_reviewer = autogen.AssistantAgent(\n",
        "    name=\"Ethics Reviewer\",\n",
        "    llm_config=llm_config,\n",
        "    system_message=\"You are an ethics reviewer, known for \"\n",
        "        \"your ability to ensure that content is ethically sound \"\n",
        "        \"and free from any potential ethical issues. \"\n",
        "        \"Make sure your suggestion is concise (within 3 bullet points), \"\n",
        "        \"concrete and to the point. \"\n",
        "        \"Begin the review by stating your role. \",\n",
        ")\n",
        "\n",
        "meta_reviewer = autogen.AssistantAgent(\n",
        "    name=\"Meta Reviewer\",\n",
        "    llm_config=llm_config,\n",
        "    system_message = \"You are a meta reviewer, you aggragate and review \"\n",
        "    \"the work of other reviewers and give a final suggestion on the content.\"\n",
        ")"
      ],
      "metadata": {
        "colab": {
          "base_uri": "https://localhost:8080/"
        },
        "id": "jJZvGAt_66pU",
        "outputId": "3d21174d-9ee4-4df6-dc60-87702e517c02"
      },
      "execution_count": 6,
      "outputs": [
        {
          "output_type": "stream",
          "name": "stdout",
          "text": [
            "[autogen.oai.client: 09-11 16:33:03] {184} WARNING - The API key specified is not a valid OpenAI format; it won't work with the OpenAI-hosted model.\n"
          ]
        },
        {
          "output_type": "stream",
          "name": "stderr",
          "text": [
            "WARNING:autogen.oai.client:The API key specified is not a valid OpenAI format; it won't work with the OpenAI-hosted model.\n"
          ]
        },
        {
          "output_type": "stream",
          "name": "stdout",
          "text": [
            "[autogen.oai.client: 09-11 16:33:03] {184} WARNING - The API key specified is not a valid OpenAI format; it won't work with the OpenAI-hosted model.\n"
          ]
        },
        {
          "output_type": "stream",
          "name": "stderr",
          "text": [
            "WARNING:autogen.oai.client:The API key specified is not a valid OpenAI format; it won't work with the OpenAI-hosted model.\n"
          ]
        },
        {
          "output_type": "stream",
          "name": "stdout",
          "text": [
            "[autogen.oai.client: 09-11 16:33:03] {184} WARNING - The API key specified is not a valid OpenAI format; it won't work with the OpenAI-hosted model.\n"
          ]
        },
        {
          "output_type": "stream",
          "name": "stderr",
          "text": [
            "WARNING:autogen.oai.client:The API key specified is not a valid OpenAI format; it won't work with the OpenAI-hosted model.\n"
          ]
        },
        {
          "output_type": "stream",
          "name": "stdout",
          "text": [
            "[autogen.oai.client: 09-11 16:33:03] {184} WARNING - The API key specified is not a valid OpenAI format; it won't work with the OpenAI-hosted model.\n"
          ]
        },
        {
          "output_type": "stream",
          "name": "stderr",
          "text": [
            "WARNING:autogen.oai.client:The API key specified is not a valid OpenAI format; it won't work with the OpenAI-hosted model.\n"
          ]
        }
      ]
    },
    {
      "cell_type": "markdown",
      "source": [
        "Combining the complete orchestration"
      ],
      "metadata": {
        "id": "_sjOYTkd7nUj"
      }
    },
    {
      "cell_type": "code",
      "source": [
        "def reflection_message(recipient, messages, sender, config):\n",
        "    return f'''Review the following content.\n",
        "            \\n\\n {recipient.chat_messages_for_summary(sender)[-1]['content']}'''\n",
        "\n",
        "review_chats = [\n",
        "    {\n",
        "     \"recipient\": SEO_reviewer,\n",
        "     \"message\": reflection_message,\n",
        "     \"summary_method\": \"reflection_with_llm\",\n",
        "     \"summary_args\": {\"summary_prompt\" :\n",
        "        \"Return review into as JSON object only:\"\n",
        "        \"{'Reviewer': '', 'Review': ''}. Here Reviewer should be your role\",},\n",
        "     \"max_turns\": 1},\n",
        "    {\n",
        "    \"recipient\": legal_reviewer, \"message\": reflection_message,\n",
        "     \"summary_method\": \"reflection_with_llm\",\n",
        "     \"summary_args\": {\"summary_prompt\" :\n",
        "        \"Return review into as JSON object only:\"\n",
        "        \"{'Reviewer': '', 'Review': ''}.\",},\n",
        "     \"max_turns\": 1},\n",
        "    {\"recipient\": ethics_reviewer, \"message\": reflection_message,\n",
        "     \"summary_method\": \"reflection_with_llm\",\n",
        "     \"summary_args\": {\"summary_prompt\" :\n",
        "        \"Return review into as JSON object only:\"\n",
        "        \"{'reviewer': '', 'review': ''}\",},\n",
        "     \"max_turns\": 1},\n",
        "     {\"recipient\": meta_reviewer,\n",
        "      \"message\": \"Aggregrate feedback from all reviewers and give final suggestions on the writing.\",\n",
        "     \"max_turns\": 1},\n",
        "]\n",
        "\n",
        "critic.register_nested_chats(\n",
        "    review_chats,\n",
        "    trigger=writer,\n",
        ")"
      ],
      "metadata": {
        "id": "LEm_smMl7mRn"
      },
      "execution_count": 7,
      "outputs": []
    },
    {
      "cell_type": "code",
      "source": [
        "res = critic.initiate_chat(\n",
        "    recipient=writer,\n",
        "    message=task,\n",
        "    max_turns=2,\n",
        "    summary_method=\"last_msg\"\n",
        ")"
      ],
      "metadata": {
        "colab": {
          "base_uri": "https://localhost:8080/"
        },
        "id": "YgZ83KAp7yWM",
        "outputId": "13706dd2-fc93-47f4-ec4c-61ec1ec5849e"
      },
      "execution_count": 8,
      "outputs": [
        {
          "output_type": "stream",
          "name": "stdout",
          "text": [
            "Critic (to Writer):\n",
            "\n",
            "\n",
            "Write a concise but engaging blogpost about\n",
            "Autogen. Make sure the blogpost is\n",
            "within 100 words.\n",
            "\n",
            "\n",
            "--------------------------------------------------------------------------------\n",
            "Writer (to Critic):\n",
            "\n",
            "Title: Autogen: A Game Changer in Code Generation\n",
            "\n",
            "Autogen is revolutionizing the tech industry with its cutting-edge code generation capabilities. This versatile tool simplifies programming by automating a variety of tasks, saving time while mitigating the risk of human error. Whether it's configuration file templates or developing complex software, Autogen is your reliable ally. Embrace the power of Autogen for a smoother programming journey and upgrade your efficiency. Welcome to the future of coding!\n",
            "\n",
            "--------------------------------------------------------------------------------\n",
            "\n",
            "********************************************************************************\n",
            "Starting a new chat....\n",
            "\n",
            "********************************************************************************\n",
            "Critic (to SEO Reviewer):\n",
            "\n",
            "Review the following content. \n",
            "            \n",
            "\n",
            " Title: Autogen: A Game Changer in Code Generation\n",
            "\n",
            "Autogen is revolutionizing the tech industry with its cutting-edge code generation capabilities. This versatile tool simplifies programming by automating a variety of tasks, saving time while mitigating the risk of human error. Whether it's configuration file templates or developing complex software, Autogen is your reliable ally. Embrace the power of Autogen for a smoother programming journey and upgrade your efficiency. Welcome to the future of coding!\n",
            "\n",
            "--------------------------------------------------------------------------------\n",
            "SEO Reviewer (to Critic):\n",
            "\n",
            "As an SEO reviewer, here are my suggestions:\n",
            "\n",
            "1. Implement relevant keywords such as 'automate code generation', 'programming tool', and 'software development efficiency' in your content to improve searchability.\n",
            "2. Add a meta description of your content including key information and primary keywords, which will help you gain better visibility on search engine results.\n",
            "\n",
            "--------------------------------------------------------------------------------\n",
            "\n",
            "********************************************************************************\n",
            "Starting a new chat....\n",
            "\n",
            "********************************************************************************\n",
            "Critic (to Legal Reviewer):\n",
            "\n",
            "Review the following content. \n",
            "            \n",
            "\n",
            " Title: Autogen: A Game Changer in Code Generation\n",
            "\n",
            "Autogen is revolutionizing the tech industry with its cutting-edge code generation capabilities. This versatile tool simplifies programming by automating a variety of tasks, saving time while mitigating the risk of human error. Whether it's configuration file templates or developing complex software, Autogen is your reliable ally. Embrace the power of Autogen for a smoother programming journey and upgrade your efficiency. Welcome to the future of coding!\n",
            "Context: \n",
            "\n",
            "\n",
            "--------------------------------------------------------------------------------\n"
          ]
        },
        {
          "output_type": "stream",
          "name": "stderr",
          "text": [
            "/usr/local/lib/python3.10/dist-packages/autogen/agentchat/conversable_agent.py:1264: UserWarning: Cannot extract summary using reflection_with_llm: Error code: 400 - {'error': {'message': \"Invalid 'messages[1].name': string does not match pattern. Expected a string that matches the pattern '^[a-zA-Z0-9_-]+$'.\", 'type': 'invalid_request_error', 'param': 'messages[1].name', 'code': 'invalid_value'}}. Using an empty str as summary.\n",
            "  warnings.warn(\n"
          ]
        },
        {
          "output_type": "stream",
          "name": "stdout",
          "text": [
            "Legal Reviewer (to Critic):\n",
            "\n",
            "As a legal reviewer, I suggest the following:\n",
            "\n",
            "1. Avoid mentioning that Autogen is revolutionizing the tech industry without concrete evidence to support such a claim, as it may be misinterpreted as false advertising.\n",
            "\n",
            "2. Refrain from guaranteeing an upgrade in efficiency or a smoother programming journey without clarifying conditions or circumstances, as it could potentially be viewed as a definite warranty or promise.\n",
            "\n",
            "--------------------------------------------------------------------------------\n",
            "\n",
            "********************************************************************************\n",
            "Starting a new chat....\n",
            "\n",
            "********************************************************************************\n",
            "Critic (to Ethics Reviewer):\n",
            "\n",
            "Review the following content. \n",
            "            \n",
            "\n",
            " Title: Autogen: A Game Changer in Code Generation\n",
            "\n",
            "Autogen is revolutionizing the tech industry with its cutting-edge code generation capabilities. This versatile tool simplifies programming by automating a variety of tasks, saving time while mitigating the risk of human error. Whether it's configuration file templates or developing complex software, Autogen is your reliable ally. Embrace the power of Autogen for a smoother programming journey and upgrade your efficiency. Welcome to the future of coding!\n",
            "Context: \n",
            "\n",
            "\n",
            "\n",
            "--------------------------------------------------------------------------------\n",
            "Ethics Reviewer (to Critic):\n",
            "\n",
            "As an ethics reviewer:\n",
            "\n",
            "1. Though the content does not appear to raise any ethical issues, to maintain ethical diligence, ensure that any claimed advantages or revolutionary aspects of Autogen are substantiated with evidence or serve to present an unbiased view. Avoid making exaggerated claims.\n",
            "   \n",
            "2. Highlight that Autogen, while it might simplify certain tasks, won't make other important aspects of coding like problem-solving, creativity and logic obsolete. It's crucial not to devalue traditional techniques and skills.\n",
            "\n",
            "3. Lastly, ensure that the message is clear on respecting intellectual property rights. Autogen should not support or encourage any actions counter to legal and ethical guidelines in this respect.\n",
            "\n",
            "--------------------------------------------------------------------------------\n",
            "\n",
            "********************************************************************************\n",
            "Starting a new chat....\n",
            "\n",
            "********************************************************************************\n",
            "Critic (to Meta Reviewer):\n",
            "\n",
            "Aggregrate feedback from all reviewers and give final suggestions on the writing.\n",
            "Context: \n",
            "\n",
            "\n",
            "\n",
            "\n",
            "--------------------------------------------------------------------------------\n",
            "Meta Reviewer (to Critic):\n",
            "\n",
            "Without knowing the details of the content under review and the feedback provided by other reviewers, it's hard to give a precise suggestion on the content. Nevertheless, as a general principle, the overall review process would take into account the holistic coherence and comprehensibility of the content, its adherence to writing conventions, the accuracy and precision of its argument, and the relevance and substantiality of its points.\n",
            "\n",
            "A balanced approach to critique, exploring both the strengths and weaknesses of the content, is advised. Identify common points made by the other reviewers, and tinting your review in their direction might be beneficial to ensure consistency in critique.\n",
            "\n",
            "In terms of suggestions, instead of inquiring for significant revisions, it's often more productive to recommend specific areas for improvements and provide practical advice on how to enhance the writing. Make sure to also highlight the areas where the content does well to encourage and recognize the good efforts of the writer. \n",
            "\n",
            "In conclusion, keep your review constructive, objective, and professional, focusing on the content, not the writer. Your overarching goal should be to help the writer improve their content by citing specific instances and providing concrete suggestions while respecting their originality and viewpoints.\n",
            "\n",
            "--------------------------------------------------------------------------------\n",
            "Critic (to Writer):\n",
            "\n",
            "Without knowing the details of the content under review and the feedback provided by other reviewers, it's hard to give a precise suggestion on the content. Nevertheless, as a general principle, the overall review process would take into account the holistic coherence and comprehensibility of the content, its adherence to writing conventions, the accuracy and precision of its argument, and the relevance and substantiality of its points.\n",
            "\n",
            "A balanced approach to critique, exploring both the strengths and weaknesses of the content, is advised. Identify common points made by the other reviewers, and tinting your review in their direction might be beneficial to ensure consistency in critique.\n",
            "\n",
            "In terms of suggestions, instead of inquiring for significant revisions, it's often more productive to recommend specific areas for improvements and provide practical advice on how to enhance the writing. Make sure to also highlight the areas where the content does well to encourage and recognize the good efforts of the writer. \n",
            "\n",
            "In conclusion, keep your review constructive, objective, and professional, focusing on the content, not the writer. Your overarching goal should be to help the writer improve their content by citing specific instances and providing concrete suggestions while respecting their originality and viewpoints.\n",
            "\n",
            "--------------------------------------------------------------------------------\n",
            "Writer (to Critic):\n",
            "\n",
            "Title: Autogen: Bridging the Gap in Code Automation\n",
            "\n",
            "Autogen stands at the forefront of the software development landscape, expanding code generation boundaries. It automates intricate tasks, eliminates human error, and accelerates programming processes. With its prowess in managing configuration file templates and developing complex software systems, it provides programmers with an unprecedented ease. With Autogen, you’re not just coding; you’re paving the way for a seamless tech future!\n",
            "\n",
            "--------------------------------------------------------------------------------\n"
          ]
        }
      ]
    },
    {
      "cell_type": "code",
      "source": [],
      "metadata": {
        "id": "N8j9NWBy70YV"
      },
      "execution_count": null,
      "outputs": []
    }
  ]
}